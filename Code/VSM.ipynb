{
 "cells": [
  {
   "cell_type": "code",
   "execution_count": 15,
   "metadata": {},
   "outputs": [],
   "source": [
    "import pandas as pd\n",
    "import os\n",
    "import math\n",
    "import nltk\n",
    "import pickle\n",
    "import json\n",
    "from nltk.corpus import stopwords\n",
    "\n",
    "from nltk.stem.snowball import SnowballStemmer\n",
    "from collections import defaultdict\n",
    "from sklearn.metrics.pairwise import cosine_similarity"
   ]
  },
  {
   "cell_type": "code",
   "execution_count": 16,
   "metadata": {},
   "outputs": [],
   "source": [
    "#Load docs, queries and the inverted index\n",
    "with open(\"Output/preprocessed_docs\",\"rb\") as file:\n",
    "    docs = pickle.load(file)\n",
    "\n",
    "with open(\"Output/preprocessed_queries\",\"rb\") as file:\n",
    "    queries = pickle.load(file)\n",
    "\n",
    "with open(\"Output/inverted_index\",\"r\") as file:\n",
    "    inverted_index = json.load(file)\n"
   ]
  },
  {
   "cell_type": "code",
   "execution_count": 27,
   "metadata": {},
   "outputs": [],
   "source": [
    "def query_weights1(tf,idf,term):\n",
    "    return (0.5 + (0.5*tf[term])/tf[max(tf)]) * idf"
   ]
  },
  {
   "cell_type": "code",
   "execution_count": 33,
   "metadata": {},
   "outputs": [],
   "source": [
    "def document_weights1(tf,idf,term):\n",
    "    return tf*idf"
   ]
  },
  {
   "cell_type": "code",
   "execution_count": 36,
   "metadata": {},
   "outputs": [],
   "source": [
    "def vector_space(query,docs, query_weight_func, doc_weight_func):\n",
    "\n",
    "        tf={}\n",
    "        \n",
    "        for term in set(query):#Get query term frequency\n",
    "                tf[term] = query.count(term)\n",
    "\n",
    "        #Calculate query and doc weights\n",
    "        query_weights = []\n",
    "        document_weights = {}\n",
    "\n",
    "        for doc in docs:\n",
    "                document_weights[doc[0]] = []\n",
    "\n",
    "        for term in set(query):\n",
    "\n",
    "                if  len(inverted_index[term]):\n",
    "                        \n",
    "                        idf = math.log(len(docs)/len(inverted_index[term]))\n",
    "\n",
    "                        query_weights.append(query_weight_func(tf,idf,term))\n",
    "\n",
    "                        for doc in docs:\n",
    "\n",
    "                                try:\n",
    "                                        tf_doc = inverted_index[term][doc[0]]\n",
    "                                except:\n",
    "                                        tf_doc = 0\n",
    "\n",
    "                                w = doc_weight_func(tf_doc,idf,term)\n",
    "                                document_weights[doc[0]].append(w)   \n",
    "\n",
    "\n",
    "        #Calcualte cosine similarity for each doc\n",
    "        sim = {}\n",
    "        for doc in document_weights:\n",
    "                sim[doc] = cosine_similarity([query_weights],[document_weights[doc]])\n",
    "\n",
    "        return sorted(sim.items(), key=lambda x:x[1])[-20:]"
   ]
  },
  {
   "cell_type": "code",
   "execution_count": 38,
   "metadata": {},
   "outputs": [
    {
     "data": {
      "text/plain": [
       "[('00950', array([[0.42380801]])),\n",
       " ('00546', array([[0.4248569]])),\n",
       " ('00430', array([[0.42739021]])),\n",
       " ('00592', array([[0.42856555]])),\n",
       " ('00100', array([[0.43080643]])),\n",
       " ('00189', array([[0.43363235]])),\n",
       " ('00333', array([[0.44618724]])),\n",
       " ('00195', array([[0.449021]])),\n",
       " ('01095', array([[0.45321368]])),\n",
       " ('00024', array([[0.45766177]])),\n",
       " ('00976', array([[0.45900989]])),\n",
       " ('01038', array([[0.46156412]])),\n",
       " ('00208', array([[0.46975672]])),\n",
       " ('00416', array([[0.50001282]])),\n",
       " ('00031', array([[0.54039761]])),\n",
       " ('00593', array([[0.54664244]])),\n",
       " ('00067', array([[0.55020713]])),\n",
       " ('00511', array([[0.55243399]])),\n",
       " ('00047', array([[0.60723291]])),\n",
       " ('00533', array([[0.65834519]]))]"
      ]
     },
     "execution_count": 38,
     "metadata": {},
     "output_type": "execute_result"
    }
   ],
   "source": [
    "vector_space(queries[5],docs,query_weights1,document_weights1)"
   ]
  }
 ],
 "metadata": {
  "kernelspec": {
   "display_name": "Python 3",
   "language": "python",
   "name": "python3"
  },
  "language_info": {
   "codemirror_mode": {
    "name": "ipython",
    "version": 3
   },
   "file_extension": ".py",
   "mimetype": "text/x-python",
   "name": "python",
   "nbconvert_exporter": "python",
   "pygments_lexer": "ipython3",
   "version": "3.11.6"
  }
 },
 "nbformat": 4,
 "nbformat_minor": 2
}
