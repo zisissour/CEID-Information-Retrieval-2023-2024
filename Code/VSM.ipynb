{
 "cells": [
  {
   "cell_type": "code",
   "execution_count": 2,
   "metadata": {},
   "outputs": [],
   "source": [
    "import pandas as pd\n",
    "import math\n",
    "import pickle\n",
    "import json\n",
    "from sklearn.metrics.pairwise import cosine_similarity"
   ]
  },
  {
   "cell_type": "code",
   "execution_count": 3,
   "metadata": {},
   "outputs": [],
   "source": [
    "#Load docs, queries and the inverted index\n",
    "with open(\"./Output/preprocessed_docs\",\"rb\") as file:\n",
    "    docs = pickle.load(file)\n",
    "\n",
    "with open(\"./Output/preprocessed_queries\",\"rb\") as file:\n",
    "    queries = pickle.load(file)\n",
    "\n",
    "with open(\"./Output/inverted_index\",\"r\") as file:\n",
    "    inverted_index = json.load(file)\n"
   ]
  },
  {
   "cell_type": "code",
   "execution_count": 4,
   "metadata": {},
   "outputs": [],
   "source": [
    "def query_weights1(tf,idf,term):\n",
    "    return (0.5 + (0.5*tf[term])/tf[max(tf)]) * idf"
   ]
  },
  {
   "cell_type": "code",
   "execution_count": 5,
   "metadata": {},
   "outputs": [],
   "source": [
    "def document_weights2(tf,idf,term):\n",
    "    return tf"
   ]
  },
  {
   "cell_type": "code",
   "execution_count": 6,
   "metadata": {},
   "outputs": [],
   "source": [
    "def document_weights1(tf,idf,term):\n",
    "    return tf*idf"
   ]
  },
  {
   "cell_type": "code",
   "execution_count": 8,
   "metadata": {},
   "outputs": [],
   "source": [
    "def vector_space(query,docs, query_weight_func, doc_weight_func):\n",
    "\n",
    "        tf={}\n",
    "        \n",
    "        for term in set(query):#Get query term frequency\n",
    "                tf[term] = query.count(term)\n",
    "\n",
    "        #Calculate query and doc weights\n",
    "        query_weights = []\n",
    "        document_weights = {}\n",
    "\n",
    "        for doc in docs:\n",
    "                document_weights[doc[0]] = []\n",
    "        \n",
    "        for term in set(query):\n",
    "\n",
    "                if term in inverted_index and len(inverted_index[term]):\n",
    "                        \n",
    "                        idf = math.log(len(docs)/len(inverted_index[term]))\n",
    "\n",
    "                        query_weights.append(query_weight_func(tf,idf,term))\n",
    "\n",
    "                        for doc in docs:\n",
    "\n",
    "                                try:\n",
    "                                        tf_doc = inverted_index[term][doc[0]]\n",
    "                                except:\n",
    "                                        tf_doc = 0\n",
    "\n",
    "                                w = doc_weight_func(tf_doc,idf,term)\n",
    "                                document_weights[doc[0]].append(w)   \n",
    "\n",
    "       \n",
    "        #Calcualte cosine similarity for each doc\n",
    "        sim = {}\n",
    "        for doc in document_weights:\n",
    "                sim[doc] = cosine_similarity([query_weights],[document_weights[doc]])\n",
    "\n",
    "        return sorted(sim.items(), key=lambda x:x[1])[-500:][::-1]"
   ]
  },
  {
   "cell_type": "code",
   "execution_count": 9,
   "metadata": {},
   "outputs": [],
   "source": [
    "\n",
    "results = []\n",
    "\n",
    "# Iterate over queries\n",
    "for query in queries:\n",
    "    # Call the vector_space function and get the result\n",
    "    result = vector_space(query, docs, query_weights1, document_weights1)\n",
    "    \n",
    "    # Extract the second element of each tuple in the result and convert it to a list\n",
    "    elements = [int(item[0]) for item in result]\n",
    "    \n",
    "    # Add the iteration number and the list of second elements to the result_dict\n",
    "\n",
    "    results.append(elements)"
   ]
  },
  {
   "cell_type": "code",
   "execution_count": 10,
   "metadata": {},
   "outputs": [],
   "source": [
    "with open(\"./Output/vsm_results_1\", \"wb\") as file:\n",
    "    pickle.dump(results, file)"
   ]
  },
  {
   "cell_type": "code",
   "execution_count": 11,
   "metadata": {},
   "outputs": [],
   "source": [
    "results = []\n",
    "\n",
    "# Iterate over queries\n",
    "for query in queries:\n",
    "    # Call the vector_space function and get the result\n",
    "    result = vector_space(query, docs, query_weights1, document_weights2)\n",
    "    \n",
    "    # Extract the second element of each tuple in the result and convert it to a list\n",
    "    elements = [int(item[0]) for item in result]\n",
    "    \n",
    "    # Add the iteration number and the list of second elements to the result_dict\n",
    "\n",
    "    results.append(elements)"
   ]
  },
  {
   "cell_type": "code",
   "execution_count": 12,
   "metadata": {},
   "outputs": [],
   "source": [
    "with open(\"./Output/vsm_results_2\", \"wb\") as file:\n",
    "    pickle.dump(results, file)"
   ]
  }
 ],
 "metadata": {
  "kernelspec": {
   "display_name": "Python 3",
   "language": "python",
   "name": "python3"
  },
  "language_info": {
   "codemirror_mode": {
    "name": "ipython",
    "version": 3
   },
   "file_extension": ".py",
   "mimetype": "text/x-python",
   "name": "python",
   "nbconvert_exporter": "python",
   "pygments_lexer": "ipython3",
   "version": "3.8.10"
  }
 },
 "nbformat": 4,
 "nbformat_minor": 2
}
