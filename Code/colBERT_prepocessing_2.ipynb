{
 "cells": [
  {
   "cell_type": "code",
   "execution_count": 3,
   "metadata": {},
   "outputs": [],
   "source": [
    "import pandas as pd\n",
    "import json\n",
    "import os"
   ]
  },
  {
   "cell_type": "code",
   "execution_count": 4,
   "metadata": {},
   "outputs": [],
   "source": [
    "#Reading documents from file\n",
    "\n",
    "files = os.listdir(\"./docs\")\n",
    "documents = []\n",
    "\n",
    "for file in files:\n",
    "    documents.append((file,pd.read_csv(\"./docs/\"+file, header=None)))\n",
    "\n",
    "documents = [(doc[0], (*map(str, doc[1][0]),)) for doc in documents]"
   ]
  },
  {
   "cell_type": "code",
   "execution_count": 33,
   "metadata": {},
   "outputs": [],
   "source": [
    "queries_raw = list(pd.read_csv('Queries_20', header = None)[0])\n",
    "queries= []\n",
    "for query in queries_raw:\n",
    "    queries.append([word.upper() for word in query.split()])"
   ]
  },
  {
   "cell_type": "code",
   "execution_count": 35,
   "metadata": {},
   "outputs": [],
   "source": [
    "colBERTdocs = {}\n",
    "colBERTqueries= {}\n",
    "\n",
    "for doc in documents:\n",
    "    colBERTdocs[doc[0]] = ' '.join(map(str, doc[1]))\n",
    "\n",
    "for i, query in enumerate(queries):\n",
    "    colBERTqueries[str(i)] = ' '.join(map(str, query))"
   ]
  },
  {
   "cell_type": "code",
   "execution_count": 38,
   "metadata": {},
   "outputs": [],
   "source": [
    "with open(\"Output/colBERT_docs\", \"w\") as file:\n",
    "    json.dump(colBERTdocs,file)\n",
    "    file.close()\n",
    "\n",
    "with open(\"Output/colBERT_queries\", \"w\") as file:\n",
    "    json.dump(colBERTqueries,file)\n",
    "    file.close()"
   ]
  }
 ],
 "metadata": {
  "kernelspec": {
   "display_name": ".venv",
   "language": "python",
   "name": "python3"
  },
  "language_info": {
   "codemirror_mode": {
    "name": "ipython",
    "version": 3
   },
   "file_extension": ".py",
   "mimetype": "text/x-python",
   "name": "python",
   "nbconvert_exporter": "python",
   "pygments_lexer": "ipython3",
   "version": "3.8.10"
  }
 },
 "nbformat": 4,
 "nbformat_minor": 2
}
