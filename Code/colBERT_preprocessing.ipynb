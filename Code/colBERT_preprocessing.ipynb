{
 "cells": [
  {
   "cell_type": "code",
   "execution_count": 1,
   "metadata": {},
   "outputs": [],
   "source": [
    "import pickle\n",
    "import json"
   ]
  },
  {
   "cell_type": "code",
   "execution_count": 2,
   "metadata": {},
   "outputs": [],
   "source": [
    "#Read preprocessed docs and queries\n",
    "\n",
    "with open(\"Output/preprocessed_docs\",\"rb\") as file:\n",
    "    docs = pickle.load(file)\n",
    "\n",
    "with open(\"Output/preprocessed_queries\",\"rb\") as file:\n",
    "    queries = pickle.load(file)"
   ]
  },
  {
   "cell_type": "code",
   "execution_count": 3,
   "metadata": {},
   "outputs": [],
   "source": [
    "colBERTdocs = {}\n",
    "colBERTqueries= {}\n",
    "\n",
    "for doc in docs:\n",
    "    colBERTdocs[doc[0]] = ' '.join(map(str, doc[1]))\n",
    "\n",
    "for i, query in enumerate(queries):\n",
    "    colBERTqueries[str(i)] = ' '.join(map(str, query))"
   ]
  },
  {
   "cell_type": "code",
   "execution_count": 4,
   "metadata": {},
   "outputs": [],
   "source": [
    "with open(\"Output/colBERT_docs\", \"w\") as file:\n",
    "    json.dump(colBERTdocs,file)\n",
    "    file.close()\n",
    "\n",
    "with open(\"Output/colBERT_queries\", \"w\") as file:\n",
    "    json.dump(colBERTqueries,file)\n",
    "    file.close()"
   ]
  }
 ],
 "metadata": {
  "kernelspec": {
   "display_name": ".venv",
   "language": "python",
   "name": "python3"
  },
  "language_info": {
   "codemirror_mode": {
    "name": "ipython",
    "version": 3
   },
   "file_extension": ".py",
   "mimetype": "text/x-python",
   "name": "python",
   "nbconvert_exporter": "python",
   "pygments_lexer": "ipython3",
   "version": "3.9.13"
  }
 },
 "nbformat": 4,
 "nbformat_minor": 2
}
