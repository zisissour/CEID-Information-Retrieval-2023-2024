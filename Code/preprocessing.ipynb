{
 "cells": [
  {
   "cell_type": "code",
   "execution_count": 1,
   "metadata": {},
   "outputs": [],
   "source": [
    "import pandas as pd\n",
    "import os\n",
    "import nltk\n",
    "import pickle\n",
    "import json\n",
    "from nltk.corpus import stopwords\n",
    "from nltk.stem.snowball import SnowballStemmer\n",
    "from collections import defaultdict"
   ]
  },
  {
   "cell_type": "code",
   "execution_count": 2,
   "metadata": {},
   "outputs": [
    {
     "name": "stderr",
     "output_type": "stream",
     "text": [
      "[nltk_data] Downloading package stopwords to\n",
      "[nltk_data]     /home/zisissour/nltk_data...\n",
      "[nltk_data]   Package stopwords is already up-to-date!\n"
     ]
    },
    {
     "data": {
      "text/plain": [
       "True"
      ]
     },
     "execution_count": 2,
     "metadata": {},
     "output_type": "execute_result"
    }
   ],
   "source": [
    "nltk.download('stopwords')"
   ]
  },
  {
   "cell_type": "code",
   "execution_count": 3,
   "metadata": {},
   "outputs": [],
   "source": [
    "#Reading documents from file\n",
    "\n",
    "files = os.listdir(\"./docs\")\n",
    "documents = []\n",
    "\n",
    "for file in files:\n",
    "    documents.append((file,pd.read_csv(\"./docs/\"+file, header=None)))\n",
    "\n",
    "documents = [(doc[0], (*map(str, doc[1][0]),)) for doc in documents]"
   ]
  },
  {
   "cell_type": "code",
   "execution_count": 4,
   "metadata": {},
   "outputs": [],
   "source": [
    "#Removing stopwords\n",
    "\n",
    "stop_words = set(stopwords.words('english'))\n",
    "filtered_documents =[]\n",
    "\n",
    "for document in documents:\n",
    "    filtered_document = (document[0],[w for w in document[1] if w.lower() not in stop_words])\n",
    "    filtered_documents.append(filtered_document)"
   ]
  },
  {
   "cell_type": "code",
   "execution_count": 5,
   "metadata": {},
   "outputs": [],
   "source": [
    "#Stemming\n",
    "\n",
    "stemmer = SnowballStemmer(language='english')\n",
    "\n",
    "filtered_documents = [(doc[0], (*map(stemmer.stem, doc[1]),)) for doc in filtered_documents]"
   ]
  },
  {
   "cell_type": "code",
   "execution_count": 6,
   "metadata": {},
   "outputs": [],
   "source": [
    "with open(\"Output/preprocessed_docs\", \"wb\") as file:\n",
    "    pickle.dump(filtered_documents, file)"
   ]
  },
  {
   "cell_type": "code",
   "execution_count": 7,
   "metadata": {},
   "outputs": [],
   "source": [
    "#Reading the queries\n",
    "queries_raw = pd.read_csv('Queries_20', header = None)\n",
    "queries=[]\n",
    "\n",
    "for query in queries_raw[0]:\n",
    "    queries.append([word.lower() for word in query.split()])"
   ]
  },
  {
   "cell_type": "code",
   "execution_count": 8,
   "metadata": {},
   "outputs": [],
   "source": [
    "#Removing stopword from queries\n",
    "filtered_queries= []\n",
    "for query in queries:\n",
    "    filtered_query = [w for w in query if w not in stop_words]\n",
    "    filtered_queries.append(filtered_query)"
   ]
  },
  {
   "cell_type": "code",
   "execution_count": 9,
   "metadata": {},
   "outputs": [],
   "source": [
    "#Stemming the queries\n",
    "filtered_queries = [(*map(stemmer.stem, query),) for query in filtered_queries]"
   ]
  },
  {
   "cell_type": "code",
   "execution_count": 10,
   "metadata": {},
   "outputs": [],
   "source": [
    "with open(\"Output/preprocessed_queries\", \"wb\") as file:\n",
    "    pickle.dump(filtered_queries,file)"
   ]
  },
  {
   "cell_type": "code",
   "execution_count": 11,
   "metadata": {},
   "outputs": [],
   "source": [
    "def build_inverted_index(documents):\n",
    "    inverted_index = defaultdict(lambda: defaultdict(int))\n",
    "\n",
    "    for _, (doc_title, document) in enumerate(documents):  # Unpack the tuple\n",
    "        for term in set(document):\n",
    "            inverted_index[term][doc_title] = document.count(term)\n",
    "\n",
    "    return inverted_index"
   ]
  },
  {
   "cell_type": "code",
   "execution_count": 12,
   "metadata": {},
   "outputs": [],
   "source": [
    "inverted_index = build_inverted_index(filtered_documents)\n"
   ]
  },
  {
   "cell_type": "code",
   "execution_count": 13,
   "metadata": {},
   "outputs": [],
   "source": [
    "with open(\"Output/inverted_index\",\"w\") as file:\n",
    "    json.dump(inverted_index, file)"
   ]
  }
 ],
 "metadata": {
  "kernelspec": {
   "display_name": ".venv",
   "language": "python",
   "name": "python3"
  },
  "language_info": {
   "codemirror_mode": {
    "name": "ipython",
    "version": 3
   },
   "file_extension": ".py",
   "mimetype": "text/x-python",
   "name": "python",
   "nbconvert_exporter": "python",
   "pygments_lexer": "ipython3",
   "version": "3.8.10"
  },
  "orig_nbformat": 4
 },
 "nbformat": 4,
 "nbformat_minor": 2
}
